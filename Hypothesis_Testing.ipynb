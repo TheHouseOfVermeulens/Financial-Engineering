{
  "nbformat": 4,
  "nbformat_minor": 0,
  "metadata": {
    "colab": {
      "name": "Hypothesis Testing",
      "provenance": [],
      "include_colab_link": true
    },
    "kernelspec": {
      "name": "python3",
      "display_name": "Python 3"
    }
  },
  "cells": [
    {
      "cell_type": "markdown",
      "metadata": {
        "id": "view-in-github",
        "colab_type": "text"
      },
      "source": [
        "<a href=\"https://colab.research.google.com/github/TheHouseOfVermeulens/Financial-Engineering/blob/master/Hypothesis_Testing.ipynb\" target=\"_parent\"><img src=\"https://colab.research.google.com/assets/colab-badge.svg\" alt=\"Open In Colab\"/></a>"
      ]
    },
    {
      "cell_type": "code",
      "metadata": {
        "id": "sS6_UkRFUSuC",
        "colab_type": "code",
        "colab": {}
      },
      "source": [
        "# Useful Libraries\n",
        "import pandas as pd\n",
        "import numpy as np\n",
        "import matplotlib.pyplot as plt\n",
        "from scipy.stats import t\n",
        "import scipy.stats"
      ],
      "execution_count": 0,
      "outputs": []
    },
    {
      "cell_type": "markdown",
      "metadata": {
        "id": "4lWzNMBtU-AO",
        "colab_type": "text"
      },
      "source": [
        "a. One tail test.\n",
        "\n",
        "Using the techniques laid out in lecture, verify if we can state that the returns of TSLA are greater than 0.\n",
        "\n",
        "    Start by stating the null and alternative hypothesis\n",
        "        Are we dealing with a one or two tailed test? Why?\n",
        "    Calculate the mean differences, and the Z-test using the formula provided in class.\n",
        "        Recall: This is a one parameter test, use the appropriate Z-test\n",
        "    Use the stat library to calculate the associated p value with your t statistic.\n",
        "        Compare your found p-value to the set α\n",
        "\n",
        "        value, and conclude.\n",
        "\n",
        "Useful Formulas:\n",
        "\n",
        "Test statistic=X¯∗μ−θ0s∗X¯=X¯μ−0sn−−⎷"
      ]
    },
    {
      "cell_type": "code",
      "metadata": {
        "id": "5wN7lddzU4u9",
        "colab_type": "code",
        "colab": {}
      },
      "source": [
        "prices1 = get_pricing('TSLA', start_date = '2015-01-01', end_date = '2016-01-01', fields = 'price')\n",
        "returns_sample_tsla = prices1.pct_change()[1:]\n",
        "\n",
        "print ('Tesla return sample mean', returns_sample_tsla.mean())\n",
        "print ('Tesla return sample standard deviation', returns_sample_tsla.std())\n",
        "print ('Tesla return sample size', len(returns_sample_tsla))"
      ],
      "execution_count": 0,
      "outputs": []
    },
    {
      "cell_type": "markdown",
      "metadata": {
        "id": "P-_cygzPVOHD",
        "colab_type": "text"
      },
      "source": [
        "\n",
        "\n",
        "```\n",
        "Tesla return sample mean 0.0006611637458\n",
        "Tesla return sample standard deviation 0.024566905352\n",
        "Tesla return sample size 251\n",
        "```\n",
        "\n"
      ]
    },
    {
      "cell_type": "markdown",
      "metadata": {
        "id": "cKcyDSaQVTm6",
        "colab_type": "text"
      },
      "source": [
        "\n",
        "One tail hypotheses.\n",
        "\n",
        "    Null hypothesis: No difference in average returns in both population, the mean is less than 0\n",
        "    Althernative hypothesis: There is a difference in average returns of both populations, the mean is not less than 0\n",
        "\n"
      ]
    },
    {
      "cell_type": "code",
      "metadata": {
        "id": "lMr12RCOVKAP",
        "colab_type": "code",
        "colab": {}
      },
      "source": [
        "# Testing\n",
        "\n",
        "## Z- Statistic: \n",
        "test_stat = (returns_sample_tsla.mean() - 0) / \\\n",
        "    ( returns_sample_tsla.std() / np.sqrt( len(returns_sample_tsla) ) )\n",
        "print ('t-statistic is:', test_stat)\n",
        "\n",
        "## Finding the p-value for one tail test\n",
        "p_val = (1 - t.cdf(test_stat, len(returns_sample_tsla) - 1))\n",
        "print ('p-value is: ', p_val)"
      ],
      "execution_count": 0,
      "outputs": []
    },
    {
      "cell_type": "markdown",
      "metadata": {
        "id": "GO05Crg2Vfcg",
        "colab_type": "text"
      },
      "source": [
        "\n",
        "\n",
        "```\n",
        "t-statistic is: 0.426378639576\n",
        "p-value is:  0.335099432105\n",
        "```\n",
        "\n"
      ]
    },
    {
      "cell_type": "markdown",
      "metadata": {
        "id": "a1uv-9ZUVj-c",
        "colab_type": "text"
      },
      "source": [
        "Comparing p-value with different α\n",
        "values\n",
        "\n",
        "With α=0.01\n",
        ", our p-value is greater than our α value, we thus fail to reject the null hypothesis.\n",
        "With α=0.5, our p-value is greater than our α value, we thus fail to reject the null hypothesis.\n",
        "With α=0.1, our p-value is greater than our α value, we thus fail to reject the null hypothesis."
      ]
    },
    {
      "cell_type": "code",
      "metadata": {
        "id": "iSj2SaRmVUnG",
        "colab_type": "code",
        "colab": {
          "base_uri": "https://localhost:8080/",
          "height": 483
        },
        "outputId": "72d4451f-633f-4ecf-9696-06c820d6893f"
      },
      "source": [
        "## Graph for visualization.\n",
        "\n",
        "x = np.linspace(-3, 3, 100)\n",
        "norm_pdf = lambda x: (1/np.sqrt(2 * np.pi)) * np.exp(-x * x / 2)\n",
        "y = norm_pdf(x)\n",
        "\n",
        "fig, ax = plt.subplots(1, 1, sharex=True)\n",
        "ax.plot(x, y)\n",
        "\n",
        "ax.fill_between(x, 0, y, where = x > 1.282, label = 'Confidence region alpha = 0.1')\n",
        "ax.fill_between(x, 0, y, where = x > 1.645, label = 'Confidence region alpha = 0.05', color = 'green')\n",
        "ax.fill_between(x, 0, y, where = x > 2.326, label = 'Confidence region alpha = 0.01', color = 'red')\n",
        "plt.axvline(p_val, linestyle = 'dashed', label = 'Location of P Value')\n",
        "\n",
        "plt.title('Graph of rejection region and P-value')\n",
        "plt.xlabel('x')\n",
        "plt.ylabel('p(x)')\n",
        "plt.legend();"
      ],
      "execution_count": 4,
      "outputs": [
        {
          "output_type": "error",
          "ename": "NameError",
          "evalue": "ignored",
          "traceback": [
            "\u001b[0;31m---------------------------------------------------------------------------\u001b[0m",
            "\u001b[0;31mNameError\u001b[0m                                 Traceback (most recent call last)",
            "\u001b[0;32m<ipython-input-4-ba708a711a7a>\u001b[0m in \u001b[0;36m<module>\u001b[0;34m()\u001b[0m\n\u001b[1;32m     10\u001b[0m \u001b[0max\u001b[0m\u001b[0;34m.\u001b[0m\u001b[0mfill_between\u001b[0m\u001b[0;34m(\u001b[0m\u001b[0mx\u001b[0m\u001b[0;34m,\u001b[0m \u001b[0;36m0\u001b[0m\u001b[0;34m,\u001b[0m \u001b[0my\u001b[0m\u001b[0;34m,\u001b[0m \u001b[0mwhere\u001b[0m \u001b[0;34m=\u001b[0m \u001b[0mx\u001b[0m \u001b[0;34m>\u001b[0m \u001b[0;36m1.645\u001b[0m\u001b[0;34m,\u001b[0m \u001b[0mlabel\u001b[0m \u001b[0;34m=\u001b[0m \u001b[0;34m'Confidence region alpha = 0.05'\u001b[0m\u001b[0;34m,\u001b[0m \u001b[0mcolor\u001b[0m \u001b[0;34m=\u001b[0m \u001b[0;34m'green'\u001b[0m\u001b[0;34m)\u001b[0m\u001b[0;34m\u001b[0m\u001b[0;34m\u001b[0m\u001b[0m\n\u001b[1;32m     11\u001b[0m \u001b[0max\u001b[0m\u001b[0;34m.\u001b[0m\u001b[0mfill_between\u001b[0m\u001b[0;34m(\u001b[0m\u001b[0mx\u001b[0m\u001b[0;34m,\u001b[0m \u001b[0;36m0\u001b[0m\u001b[0;34m,\u001b[0m \u001b[0my\u001b[0m\u001b[0;34m,\u001b[0m \u001b[0mwhere\u001b[0m \u001b[0;34m=\u001b[0m \u001b[0mx\u001b[0m \u001b[0;34m>\u001b[0m \u001b[0;36m2.326\u001b[0m\u001b[0;34m,\u001b[0m \u001b[0mlabel\u001b[0m \u001b[0;34m=\u001b[0m \u001b[0;34m'Confidence region alpha = 0.01'\u001b[0m\u001b[0;34m,\u001b[0m \u001b[0mcolor\u001b[0m \u001b[0;34m=\u001b[0m \u001b[0;34m'red'\u001b[0m\u001b[0;34m)\u001b[0m\u001b[0;34m\u001b[0m\u001b[0;34m\u001b[0m\u001b[0m\n\u001b[0;32m---> 12\u001b[0;31m \u001b[0mplt\u001b[0m\u001b[0;34m.\u001b[0m\u001b[0maxvline\u001b[0m\u001b[0;34m(\u001b[0m\u001b[0mp_val\u001b[0m\u001b[0;34m,\u001b[0m \u001b[0mlinestyle\u001b[0m \u001b[0;34m=\u001b[0m \u001b[0;34m'dashed'\u001b[0m\u001b[0;34m,\u001b[0m \u001b[0mlabel\u001b[0m \u001b[0;34m=\u001b[0m \u001b[0;34m'Location of P Value'\u001b[0m\u001b[0;34m)\u001b[0m\u001b[0;34m\u001b[0m\u001b[0;34m\u001b[0m\u001b[0m\n\u001b[0m\u001b[1;32m     13\u001b[0m \u001b[0;34m\u001b[0m\u001b[0m\n\u001b[1;32m     14\u001b[0m \u001b[0mplt\u001b[0m\u001b[0;34m.\u001b[0m\u001b[0mtitle\u001b[0m\u001b[0;34m(\u001b[0m\u001b[0;34m'Graph of rejection region and P-value'\u001b[0m\u001b[0;34m)\u001b[0m\u001b[0;34m\u001b[0m\u001b[0;34m\u001b[0m\u001b[0m\n",
            "\u001b[0;31mNameError\u001b[0m: name 'p_val' is not defined"
          ]
        },
        {
          "output_type": "display_data",
          "data": {
            "image/png": "[encoded data removed]",
            "text/plain": [
              "<Figure size 432x288 with 1 Axes>"
            ]
          },
          "metadata": {
            "tags": []
          }
        }
      ]
    },
    {
      "cell_type": "markdown",
      "metadata": {
        "id": "BF8XWay3Vv-i",
        "colab_type": "text"
      },
      "source": [
        "In the graph above, we can clearly see the rejection region for all three values of α\n",
        "\n",
        "are bellow the found p-value.\n",
        "\n",
        "##b. Two tailed test.\n",
        "\n",
        "Using the techniques laid out in lecture, verify if we can state that the returns of TSLA are equal to 0.\n",
        "Two tail hypotheses.\n",
        "\n",
        "    Null hypothesis: No difference in average returns in both population, the mean is 0\n",
        "    Althernative hypothesis: There is a difference in average returns of both populations, the mean is not 0\n",
        "\n"
      ]
    },
    {
      "cell_type": "code",
      "metadata": {
        "id": "DcJezbv3Vq09",
        "colab_type": "code",
        "colab": {}
      },
      "source": [
        "## Finding the p-value for two tailed test. \n",
        "p_val = 2*(1 - t.cdf(test_stat, len(returns_sample_tsla) - 1))\n",
        "print ('p-value is: ', p_val)"
      ],
      "execution_count": 0,
      "outputs": []
    },
    {
      "cell_type": "markdown",
      "metadata": {
        "id": "SOj6--bDWAGj",
        "colab_type": "text"
      },
      "source": [
        "\n",
        "\n",
        "```\n",
        "p-value is:  0.670198864209\n",
        "```\n",
        "\n"
      ]
    },
    {
      "cell_type": "markdown",
      "metadata": {
        "id": "26OniSjHWExT",
        "colab_type": "text"
      },
      "source": [
        "With α=0.01, our p-value is greater than our α value, we thus fail to reject the null hypothesis.\n",
        "With α=0.5, our p-value is greater than our α value, we thus fail to reject the null hypothesis.\n",
        "With α=0.1, our p-value is greater than our α value, we thus fail to reject the null hypothesis."
      ]
    },
    {
      "cell_type": "code",
      "metadata": {
        "id": "K1QjouEHV78Z",
        "colab_type": "code",
        "colab": {
          "base_uri": "https://localhost:8080/",
          "height": 483
        },
        "outputId": "d1b609c2-1ef5-4ee7-94ff-289f2465a9ca"
      },
      "source": [
        "x = np.linspace(-3, 3, 100)\n",
        "norm_pdf = lambda x: (1/np.sqrt(2 * np.pi)) * np.exp(-x * x / 2)\n",
        "y = norm_pdf(x)\n",
        "\n",
        "fig, ax = plt.subplots(1, 1, sharex=True)\n",
        "ax.plot(x, y)\n",
        "\n",
        "ax.fill_between(x, 0, y, where = x > 1.645, label = 'Confidence region at alpha = 0.1')\n",
        "ax.fill_between(x, 0, y, where = x < -1.645)\n",
        "\n",
        "ax.fill_between(x, 0, y, where = x > 1.96, label = 'Confidence region at alpha = 0.05', color = 'green')\n",
        "ax.fill_between(x, 0, y, where = x < -1.96, color = 'green')\n",
        "\n",
        "ax.fill_between(x, 0, y, where = x > 2.576, label = 'Confidence region at alpha = 0.05', color='red')\n",
        "ax.fill_between(x, 0, y, where = x < -2.576, color = 'red')\n",
        "plt.axvline(p_val, linestyle = 'dashed', label = 'Location of P Value')\n",
        "\n",
        "plt.title('Graph of rejection region and P-value')\n",
        "plt.xlabel('x')\n",
        "plt.ylabel('p(x)')\n",
        "plt.legend();"
      ],
      "execution_count": 6,
      "outputs": [
        {
          "output_type": "error",
          "ename": "NameError",
          "evalue": "ignored",
          "traceback": [
            "\u001b[0;31m---------------------------------------------------------------------------\u001b[0m",
            "\u001b[0;31mNameError\u001b[0m                                 Traceback (most recent call last)",
            "\u001b[0;32m<ipython-input-6-b1e37ff28d78>\u001b[0m in \u001b[0;36m<module>\u001b[0;34m()\u001b[0m\n\u001b[1;32m     14\u001b[0m \u001b[0max\u001b[0m\u001b[0;34m.\u001b[0m\u001b[0mfill_between\u001b[0m\u001b[0;34m(\u001b[0m\u001b[0mx\u001b[0m\u001b[0;34m,\u001b[0m \u001b[0;36m0\u001b[0m\u001b[0;34m,\u001b[0m \u001b[0my\u001b[0m\u001b[0;34m,\u001b[0m \u001b[0mwhere\u001b[0m \u001b[0;34m=\u001b[0m \u001b[0mx\u001b[0m \u001b[0;34m>\u001b[0m \u001b[0;36m2.576\u001b[0m\u001b[0;34m,\u001b[0m \u001b[0mlabel\u001b[0m \u001b[0;34m=\u001b[0m \u001b[0;34m'Confidence region at alpha = 0.05'\u001b[0m\u001b[0;34m,\u001b[0m \u001b[0mcolor\u001b[0m\u001b[0;34m=\u001b[0m\u001b[0;34m'red'\u001b[0m\u001b[0;34m)\u001b[0m\u001b[0;34m\u001b[0m\u001b[0;34m\u001b[0m\u001b[0m\n\u001b[1;32m     15\u001b[0m \u001b[0max\u001b[0m\u001b[0;34m.\u001b[0m\u001b[0mfill_between\u001b[0m\u001b[0;34m(\u001b[0m\u001b[0mx\u001b[0m\u001b[0;34m,\u001b[0m \u001b[0;36m0\u001b[0m\u001b[0;34m,\u001b[0m \u001b[0my\u001b[0m\u001b[0;34m,\u001b[0m \u001b[0mwhere\u001b[0m \u001b[0;34m=\u001b[0m \u001b[0mx\u001b[0m \u001b[0;34m<\u001b[0m \u001b[0;34m-\u001b[0m\u001b[0;36m2.576\u001b[0m\u001b[0;34m,\u001b[0m \u001b[0mcolor\u001b[0m \u001b[0;34m=\u001b[0m \u001b[0;34m'red'\u001b[0m\u001b[0;34m)\u001b[0m\u001b[0;34m\u001b[0m\u001b[0;34m\u001b[0m\u001b[0m\n\u001b[0;32m---> 16\u001b[0;31m \u001b[0mplt\u001b[0m\u001b[0;34m.\u001b[0m\u001b[0maxvline\u001b[0m\u001b[0;34m(\u001b[0m\u001b[0mp_val\u001b[0m\u001b[0;34m,\u001b[0m \u001b[0mlinestyle\u001b[0m \u001b[0;34m=\u001b[0m \u001b[0;34m'dashed'\u001b[0m\u001b[0;34m,\u001b[0m \u001b[0mlabel\u001b[0m \u001b[0;34m=\u001b[0m \u001b[0;34m'Location of P Value'\u001b[0m\u001b[0;34m)\u001b[0m\u001b[0;34m\u001b[0m\u001b[0;34m\u001b[0m\u001b[0m\n\u001b[0m\u001b[1;32m     17\u001b[0m \u001b[0;34m\u001b[0m\u001b[0m\n\u001b[1;32m     18\u001b[0m \u001b[0mplt\u001b[0m\u001b[0;34m.\u001b[0m\u001b[0mtitle\u001b[0m\u001b[0;34m(\u001b[0m\u001b[0;34m'Graph of rejection region and P-value'\u001b[0m\u001b[0;34m)\u001b[0m\u001b[0;34m\u001b[0m\u001b[0;34m\u001b[0m\u001b[0m\n",
            "\u001b[0;31mNameError\u001b[0m: name 'p_val' is not defined"
          ]
        },
        {
          "output_type": "display_data",
          "data": {
            "image/png": "[encoded data removed]",
            "text/plain": [
              "<Figure size 432x288 with 1 Axes>"
            ]
          },
          "metadata": {
            "tags": []
          }
        }
      ]
    },
    {
      "cell_type": "code",
      "metadata": {
        "id": "9BOFF_meWFt_",
        "colab_type": "code",
        "colab": {}
      },
      "source": [
        ""
      ],
      "execution_count": 0,
      "outputs": []
    },
    {
      "cell_type": "markdown",
      "metadata": {
        "id": "axjglYp9WVkT",
        "colab_type": "text"
      },
      "source": [
        "##a. Critical Values.\n",
        "\n",
        "Find the critical values associated with α=1%,5%,10%\n",
        "and graph the rejection regions on a plot for a two tailed test."
      ]
    },
    {
      "cell_type": "code",
      "metadata": {
        "id": "KpZs8O5_WYIH",
        "colab_type": "code",
        "colab": {
          "base_uri": "https://localhost:8080/",
          "height": 69
        },
        "outputId": "22f4dae7-6b9b-4fe5-f2ef-d71c3d715e0e"
      },
      "source": [
        "# For alpha = 10%\n",
        "alpha = 0.1\n",
        "f = 1 - (alpha/2)\n",
        "print ('alpha = 10%: f = ', f)\n",
        "\n",
        "# For alpha = 5%\n",
        "alpha = 0.05\n",
        "f = 1 - (alpha/2)\n",
        "print ('alpha = 5%: f = ', f)\n",
        "\n",
        "# For alpha = 1%\n",
        "alpha = 0.01\n",
        "f = 1 - (alpha/2)\n",
        "print ('alpha = 1%: f = ', f)"
      ],
      "execution_count": 8,
      "outputs": [
        {
          "output_type": "stream",
          "text": [
            "alpha = 10%: f =  0.95\n",
            "alpha = 5%: f =  0.975\n",
            "alpha = 1%: f =  0.995\n"
          ],
          "name": "stdout"
        }
      ]
    },
    {
      "cell_type": "markdown",
      "metadata": {
        "id": "WW-BiULvWmM_",
        "colab_type": "text"
      },
      "source": [
        "Using the z-table above, we find that for"
      ]
    },
    {
      "cell_type": "code",
      "metadata": {
        "id": "cJwXOYOhWbv_",
        "colab_type": "code",
        "colab": {
          "base_uri": "https://localhost:8080/",
          "height": 295
        },
        "outputId": "a564ecd9-1380-4a51-9c6e-c930d3220526"
      },
      "source": [
        "# Plot a standard normal distribution and mark the critical regions with shading\n",
        "x = np.linspace(-3, 3, 100)\n",
        "norm_pdf = lambda x: (1/np.sqrt(2 * np.pi)) * np.exp(-x * x / 2)\n",
        "y = norm_pdf(x)\n",
        "\n",
        "fig, ax = plt.subplots(1, 1, sharex=True)\n",
        "ax.plot(x, y)\n",
        "\n",
        "# Value for alpha = 1%\n",
        "ax.fill_between(x, 0, y, where =  x > 1.645, label = 'alpha = 10%')\n",
        "ax.fill_between(x, 0, y, where = x < -1.645)\n",
        "\n",
        "# Value for alpha = 5%\n",
        "ax.fill_between(x, 0, y, where = x > 1.96, color = 'red', label = 'alpha = 5%')\n",
        "ax.fill_between(x, 0, y, where = x < -1.96, color = 'red')\n",
        "\n",
        "#Value for alpha = 10%\n",
        "ax.fill_between(x, 0, y, where = x > 2.575, facecolor='green', label = 'alpha = 1%')\n",
        "ax.fill_between(x, 0, y, where = x < -2.575, facecolor='green')\n",
        "\n",
        "plt.title('Rejection regions for a two-tailed hypothesis test at 90%, 95%, 99% confidence')\n",
        "plt.xlabel('x')\n",
        "plt.ylabel('p(x)')\n",
        "plt.legend();"
      ],
      "execution_count": 9,
      "outputs": [
        {
          "output_type": "display_data",
          "data": {
            "image/png": "[encoded data removed]",
            "text/plain": [
              "<Figure size 432x288 with 1 Axes>"
            ]
          },
          "metadata": {
            "tags": []
          }
        }
      ]
    },
    {
      "cell_type": "code",
      "metadata": {
        "id": "icpBS4-UWnOb",
        "colab_type": "code",
        "colab": {}
      },
      "source": [
        ""
      ],
      "execution_count": 0,
      "outputs": []
    },
    {
      "cell_type": "markdown",
      "metadata": {
        "id": "YUAJvx9tWu19",
        "colab_type": "text"
      },
      "source": [
        "##b. Mean T-Test\n",
        "\n",
        "Run a T-test on the SPY returns, to determine if the mean returns is 0.01.\n",
        "\n",
        "Find the two critical values for a 90% two tailed z -test. \n",
        "\n",
        "Use the formula above to run a t-test on the sample data.\n",
        "Conclude about the test results."
      ]
    },
    {
      "cell_type": "code",
      "metadata": {
        "id": "JgtHEs7MWwfy",
        "colab_type": "code",
        "colab": {
          "base_uri": "https://localhost:8080/",
          "height": 34
        },
        "outputId": "103cc4c2-148d-48c2-cda7-15963d16c92c"
      },
      "source": [
        "# Calculating Critical Values probability\n",
        "\n",
        "alpha = 0.1\n",
        "v = 1 - (alpha/2)\n",
        "print (v)"
      ],
      "execution_count": 10,
      "outputs": [
        {
          "output_type": "stream",
          "text": [
            "0.95\n"
          ],
          "name": "stdout"
        }
      ]
    },
    {
      "cell_type": "markdown",
      "metadata": {
        "id": "arKrli1aW-Hq",
        "colab_type": "text"
      },
      "source": [
        "From the previous question, we find a critical value of 1.645."
      ]
    },
    {
      "cell_type": "code",
      "metadata": {
        "id": "M4nUJEuHW7Uz",
        "colab_type": "code",
        "colab": {}
      },
      "source": [
        "data = get_pricing('SPY', start_date = '2016-01-01', end_date = '2017-01-01', fields = 'price')\n",
        "returns_sample = data.pct_change()[1:]\n",
        "\n",
        "# Running the T-test.\n",
        "n = len(returns_sample)\n",
        "test_statistic = ((returns_sample.mean() - 0) /\n",
        "                (returns_sample.std()/np.sqrt(n)))\n",
        "print ('t test statistic: ', test_statistic)"
      ],
      "execution_count": 0,
      "outputs": []
    },
    {
      "cell_type": "markdown",
      "metadata": {
        "id": "TO7MEPARXIAn",
        "colab_type": "text"
      },
      "source": [
        "\n",
        "\n",
        "```\n",
        "t test statistic:  1.05168962394\n",
        "```\n",
        "\n"
      ]
    },
    {
      "cell_type": "markdown",
      "metadata": {
        "id": "YhGXIrvRXN8I",
        "colab_type": "text"
      },
      "source": [
        "We find that −1.645<1.05<1.645. We thus conclude that we fail to reject our H0"
      ]
    },
    {
      "cell_type": "markdown",
      "metadata": {
        "id": "h0mfS13_XUmG",
        "colab_type": "text"
      },
      "source": [
        "##Mean p-value test\n",
        "\n",
        "Given the returns data above, use the p-value to determine the results of the previous hypothesis test."
      ]
    },
    {
      "cell_type": "code",
      "metadata": {
        "id": "QQVqhIiuW-6h",
        "colab_type": "code",
        "colab": {}
      },
      "source": [
        "# Running p-value test. \n",
        "\n",
        "alpha = 0.1\n",
        "p_val = 2 * (1 - t.cdf(test_statistic, n - 1))\n",
        "print ('p-value is: ', p_val)\n",
        "\n",
        "if p_val > alpha: \n",
        "    print ('p-value is greater than our significant level, we thus fail to reject the null hypothesis.')\n",
        "else: \n",
        "    print ('p-value is less than or equal to our significal level, we thus reject the null hypothesis.')\n"
      ],
      "execution_count": 0,
      "outputs": []
    },
    {
      "cell_type": "markdown",
      "metadata": {
        "id": "vAvNUHMgXi_u",
        "colab_type": "text"
      },
      "source": [
        "\n",
        "\n",
        "```\n",
        "p-value is:  0.293957454918\n",
        "p-value is greater than our significant level, we thus fail to reject the null hypothesis.```\n",
        "\n"
      ]
    },
    {
      "cell_type": "markdown",
      "metadata": {
        "id": "ow5fjnnhXn2N",
        "colab_type": "text"
      },
      "source": [
        "As we can see above, our p-value is greater than our significant level, α=0.1, we thus fail to reject the null hypothesis."
      ]
    },
    {
      "cell_type": "code",
      "metadata": {
        "id": "oodIytwGXPSu",
        "colab_type": "code",
        "colab": {}
      },
      "source": [
        ""
      ],
      "execution_count": 0,
      "outputs": []
    },
    {
      "cell_type": "markdown",
      "metadata": {
        "id": "i1gR9ZsTXt21",
        "colab_type": "text"
      },
      "source": [
        "#Multiple Variables Tests.\n",
        "##a. Hypothesis testing on Means.\n",
        "\n",
        "State the hypothesis tests for comparing two means\n",
        "Find the test statistic along with the degrees of freedom for the following two assets. Assume variance is different (We assume XLF to be a safer buy than GS.\n",
        "Use the t-table to conclude about your hypothesis test. Pick α=10%\n",
        "\n",
        "Useful Formulas:\n",
        "\n",
        "t=X¯1−X¯2(s2pn1+s2pn2)1/2\n",
        "t=X¯1−X¯2(s21n1+s22n2)1/2\n",
        "df=(s21n1+s22n2)2(s21/n1)2/(n1−1)+(s22/n2)2/(n2−1)\n",
        "\n",
        "note: one formula for t involves equal variance, the other does not. Use the right one given the information above\n",
        "\n",
        "Answer:\n",
        "Hypothesis Tests when comparing two means:\n",
        "1.H0:μ1−μ2=θ0, HA:μ1−μ2≠θ0\n",
        "2.H0:μ1−μ2≤θ0, HA:μ1−μ2>θ0\n",
        "3.H0:μ1−μ2≥θ0, HA:μ1−μ2<θ0"
      ]
    },
    {
      "cell_type": "code",
      "metadata": {
        "id": "8EJsruqRXo1U",
        "colab_type": "code",
        "colab": {}
      },
      "source": [
        "# Data Collection\n",
        "alpha = 0.1\n",
        "symbol_list = ['XLF', 'MCD']\n",
        "start = '2015-01-01'\n",
        "end = '2016-01-01'\n",
        "pricing_sample = get_pricing(symbol_list, start_date = start, end_date = end, fields='price')\n",
        "pricing_sample.columns = map(lambda x: x.symbol, pricing_sample.columns)\n",
        "returns_sample = pricing_sample.pct_change()[1:]\n",
        "\n",
        "\n",
        "# Sample mean values\n",
        "mu_xlf, mu_gs = returns_sample.mean()\n",
        "s_xlf, s_gs = returns_sample.std()\n",
        "n_xlf = len(returns_sample['XLF'])\n",
        "n_gs = len(returns_sample['MCD'])\n",
        "\n",
        "test_statistic = ((mu_xlf - mu_gs) - 0)/((s_xlf**2/n_xlf) + (s_gs**2/n_gs))**0.5\n",
        "df = ((s_xlf**2/n_xlf) + (s_gs**2/n_gs))**2/ \\\n",
        "     (((s_xlf**2 / n_xlf)**2 /(n_xlf-1))+((s_gs**2 / n_gs)**2/(n_gs-1)))\n",
        "\n",
        "print ('t test statistic: ', test_statistic)\n",
        "print ('Degrees of freedom (modified): ', df)\n",
        "print ('p-value: ', 2 * (1 - t.cdf(test_statistic, df)))"
      ],
      "execution_count": 0,
      "outputs": []
    },
    {
      "cell_type": "markdown",
      "metadata": {
        "id": "wT0Hx9k-YGD3",
        "colab_type": "text"
      },
      "source": [
        "\n",
        "\n",
        "```\n",
        "t test statistic:  -1.12060529448\n",
        "Degrees of freedom (modified):  496.271031856\n",
        "p-value:  1.73700210188```\n",
        "\n"
      ]
    },
    {
      "cell_type": "markdown",
      "metadata": {
        "id": "17TYA1CYYKPk",
        "colab_type": "text"
      },
      "source": [
        "With a confidence level of 90%, our test statistic belongs to the range -1.645, 1.645. Since our test statistic is above these values we accept the null hypothesis and determine that the difference between XLF and MCD returns is significantly different from 0."
      ]
    },
    {
      "cell_type": "markdown",
      "metadata": {
        "id": "YipOPi1EYOQ5",
        "colab_type": "text"
      },
      "source": [
        "\n",
        "##b. Hypothesis Testing on Variances.\n",
        "\n",
        "State the hypothesis tests for comparing two means.\n",
        "Calculate the returns and compare their variances.\n",
        "Calculate the F-test using the variances\n",
        "Check that both values have the same degrees of freedom.\n",
        "\n"
      ]
    },
    {
      "cell_type": "markdown",
      "metadata": {
        "id": "Nk-tPWweYXlC",
        "colab_type": "text"
      },
      "source": [
        "Answer:\n",
        "\n",
        "1.H0:σ21=σ22, HA:σ21≠σ22\n",
        "2.H0:σ21≤σ22, HA:σ21>σ22\n",
        "3.H0:σ21≥σ22, HA:σ21<σ22"
      ]
    },
    {
      "cell_type": "code",
      "metadata": {
        "id": "MVaZEL5eX8nb",
        "colab_type": "code",
        "colab": {}
      },
      "source": [
        "\n",
        "\n",
        "# Data\n",
        "symbol_list = ['XLF', 'MCD']\n",
        "start = \"2015-01-01\"\n",
        "end = \"2016-01-01\"\n",
        "pricing_sample = get_pricing(symbol_list, start_date = start, end_date = end, fields = 'price')\n",
        "pricing_sample.columns = map(lambda x: x.symbol, pricing_sample.columns)\n",
        "returns_sample = pricing_sample.pct_change()[1:]\n",
        "\n",
        "# Take returns from above, MCD and XLF, and compare their variances\n",
        "xlf_std_dev, mcd_std_dev = returns_sample.std()\n",
        "print ('XLF standard deviation is: ', xlf_std_dev)\n",
        "print ('MCD standard deviation is: ', mcd_std_dev)\n",
        "\n",
        "# Calculate F-test with MCD.std > XLF.std\n",
        "test_statistic = (mcd_std_dev / xlf_std_dev)**2\n",
        "print (\"F Test statistic: \", test_statistic)\n",
        "\n",
        "#degree of freedom \n",
        "df1 = len(returns_sample['XLF']) - 1\n",
        "df2 = len(returns_sample['MCD']) - 1\n",
        "print (df1)\n",
        "print (df2)\n",
        "\n",
        "# Calculate critical values. \n",
        "from scipy.stats import f\n",
        "upper_crit_value = f.ppf(0.975, df1, df2)\n",
        "lower_crit_value = f.ppf(0.025, df1, df2)\n",
        "print ('Upper critical value at a = 0.05 with df1 = {0} and df2 = {1}: '.format(df1, df2), upper_crit_value)\n",
        "print ('Lower critical value at a = 0.05 with df1 = {0} and df2 = {1}: '.format(df1, df2), lower_crit_value)\n",
        "\n"
      ],
      "execution_count": 0,
      "outputs": []
    },
    {
      "cell_type": "markdown",
      "metadata": {
        "id": "cRssgwi7YsSU",
        "colab_type": "text"
      },
      "source": [
        "\n",
        "\n",
        "```\n",
        "XLF standard deviation is:  0.0110764148949\n",
        "MCD standard deviation is:  0.0120820314786\n",
        "F Test statistic:  1.18982063302\n",
        "250\n",
        "250\n",
        "Upper critical value at a = 0.05 with df1 = 250 and df2 = 250:  1.28208064948\n",
        "Lower critical value at a = 0.05 with df1 = 250 and df2 = 250:  0.779982133263```\n",
        "\n"
      ]
    },
    {
      "cell_type": "markdown",
      "metadata": {
        "id": "E4YUcAz9Yx0j",
        "colab_type": "text"
      },
      "source": [
        "We can see that our F-test statistic is bellow the Upper Critical Value, thus we accept the null hypothesis and reject the alternative and conclude that the variances of XLF and MCD indeed do not differ."
      ]
    }
  ]
}