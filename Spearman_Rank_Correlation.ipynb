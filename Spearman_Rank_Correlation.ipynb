{
  "nbformat": 4,
  "nbformat_minor": 0,
  "metadata": {
    "colab": {
      "name": "Spearman Rank Correlation",
      "provenance": [],
      "include_colab_link": true
    },
    "kernelspec": {
      "name": "python3",
      "display_name": "Python 3"
    }
  },
  "cells": [
    {
      "cell_type": "markdown",
      "metadata": {
        "id": "view-in-github",
        "colab_type": "text"
      },
      "source": [
        "<a href=\"https://colab.research.google.com/github/TheHouseOfVermeulens/Financial-Engineering/blob/master/Spearman_Rank_Correlation.ipynb\" target=\"_parent\"><img src=\"https://colab.research.google.com/assets/colab-badge.svg\" alt=\"Open In Colab\"/></a>"
      ]
    },
    {
      "cell_type": "code",
      "metadata": {
        "id": "3ftN8c3cdr_5",
        "colab_type": "code",
        "colab": {}
      },
      "source": [
        "import numpy as np\n",
        "import pandas as pd\n",
        "import scipy.stats as stats\n",
        "import matplotlib.pyplot as plt\n",
        "import math\n"
      ],
      "execution_count": 0,
      "outputs": []
    },
    {
      "cell_type": "markdown",
      "metadata": {
        "id": "qvTYXbnHd7S8",
        "colab_type": "text"
      },
      "source": [
        "#Finding Correlations of Non-Linear Relationships\n",
        "##a. Traditional (Pearson) Correlation\n",
        "\n",
        "Find the correlation coefficient for the relationship between x and y."
      ]
    },
    {
      "cell_type": "code",
      "metadata": {
        "id": "6-gjd8TGdxr0",
        "colab_type": "code",
        "colab": {
          "base_uri": "https://localhost:8080/",
          "height": 293
        },
        "outputId": "1eb63fc7-6bae-49e7-9a9c-abd2ad02156a"
      },
      "source": [
        "n = 100\n",
        "x = np.linspace(1, n, n)\n",
        "y = x**5\n",
        "\n",
        "corr = np.corrcoef(x, y)[1][0]\n",
        "\n",
        "print (corr)\n",
        "\n",
        "plt.plot(x, y);"
      ],
      "execution_count": 2,
      "outputs": [
        {
          "output_type": "stream",
          "text": [
            "0.8220252311231433\n"
          ],
          "name": "stdout"
        },
        {
          "output_type": "display_data",
          "data": {
            "image/png": "[encoded data removed]",
            "text/plain": [
              "<Figure size 432x288 with 1 Axes>"
            ]
          },
          "metadata": {
            "tags": []
          }
        }
      ]
    },
    {
      "cell_type": "markdown",
      "metadata": {
        "id": "Zl1NiRjVeHB6",
        "colab_type": "text"
      },
      "source": [
        "#b. Spearman Rank Correlation\n",
        "\n",
        "Find the Spearman rank correlation coefficient for the relationship between x and y using the stats.rankdata function and the formula\n",
        "\n",
        "rS = 1−(6∑ni=1d2i / n(n2−1))\n",
        "\n",
        "where di\n",
        "is the difference in rank of the ith pair of x and y values."
      ]
    },
    {
      "cell_type": "code",
      "metadata": {
        "id": "4f7oDhwmd9l9",
        "colab_type": "code",
        "colab": {
          "base_uri": "https://localhost:8080/",
          "height": 54
        },
        "outputId": "60327009-1e45-4d06-a602-6c8f9fb3430d"
      },
      "source": [
        "xrank = stats.rankdata(x, method='average')\n",
        "\n",
        "yrank = stats.rankdata(y, method='average')\n",
        "\n",
        "diffs = xrank - yrank\n",
        "\n",
        "spr_corr = 1 - 6*np.sum( diffs*diffs )/( n*( n**2 - 1 ) )\n",
        "\n",
        "print (\"Because the ranks of the two data sets are perfectly correlated,\\\n",
        "the relationship between x and y has a Spearman rank correlation coefficient of\", spr_corr)\n"
      ],
      "execution_count": 3,
      "outputs": [
        {
          "output_type": "stream",
          "text": [
            "Because the ranks of the two data sets are perfectly correlated,the relationship between x and y has a Spearman rank correlation coefficient of 1.0\n"
          ],
          "name": "stdout"
        }
      ]
    },
    {
      "cell_type": "markdown",
      "metadata": {
        "id": "XlmtbGHceljr",
        "colab_type": "text"
      },
      "source": [
        "Check your results against scipy's Spearman rank function. stats.spearmanr"
      ]
    },
    {
      "cell_type": "code",
      "metadata": {
        "id": "rdI2Aojgeh1d",
        "colab_type": "code",
        "colab": {
          "base_uri": "https://localhost:8080/",
          "height": 34
        },
        "outputId": "e0136356-381e-4a7b-8d8c-bdacef14f54d"
      },
      "source": [
        "stats.spearmanr(x, y)"
      ],
      "execution_count": 4,
      "outputs": [
        {
          "output_type": "execute_result",
          "data": {
            "text/plain": [
              "SpearmanrResult(correlation=0.9999999999999999, pvalue=0.0)"
            ]
          },
          "metadata": {
            "tags": []
          },
          "execution_count": 4
        }
      ]
    },
    {
      "cell_type": "code",
      "metadata": {
        "id": "U0RUYlG8enoL",
        "colab_type": "code",
        "colab": {}
      },
      "source": [
        ""
      ],
      "execution_count": 0,
      "outputs": []
    },
    {
      "cell_type": "markdown",
      "metadata": {
        "id": "ET9LqbdCeuRs",
        "colab_type": "text"
      },
      "source": [
        "#Limitations of Spearman Rank Correlation\n",
        "##a. Lagged Relationships\n",
        "\n",
        "First, create a series b that is identical to a but lagged one step (b[i] = a[i-1]). Then, find the Spearman rank correlation coefficient of the relationship between a and b."
      ]
    },
    {
      "cell_type": "code",
      "metadata": {
        "id": "zKNC9gKlewul",
        "colab_type": "code",
        "colab": {
          "base_uri": "https://localhost:8080/",
          "height": 52
        },
        "outputId": "2a9fcf77-6b06-492c-c1b5-3ebf9c0ef21e"
      },
      "source": [
        "n = 100\n",
        "a = np.random.normal(0, 1, n)\n",
        "\n",
        "b = [0] + list(a[:(n-1)])\n",
        "\n",
        "results = stats.spearmanr(a, b)\n",
        "\n",
        "print (\"Despite the underlying relationship being a perfect correlation,\\\n",
        "the one-step lag led to a Spearman rank correlation coefficient of\\n\", results.correlation, \\\n",
        "\", meaning the test failed to detect the strong relationship.\")"
      ],
      "execution_count": 5,
      "outputs": [
        {
          "output_type": "stream",
          "text": [
            "Despite the underlying relationship being a perfect correlation,the one-step lag led to a Spearman rank correlation coefficient of\n",
            " -0.20488448844884485 , meaning the test failed to detect the strong relationship.\n"
          ],
          "name": "stdout"
        }
      ]
    },
    {
      "cell_type": "markdown",
      "metadata": {
        "id": "NAV_N13ae6C2",
        "colab_type": "text"
      },
      "source": [
        "##b. Non-Monotonic Relationships\n",
        "\n",
        "First, create a series d using the relationship d=10c2−c+2\n",
        ". Then, find the Spearman rank rorrelation coefficient of the relationship between c and d."
      ]
    },
    {
      "cell_type": "code",
      "metadata": {
        "id": "hK7PLvcpe2RY",
        "colab_type": "code",
        "colab": {
          "base_uri": "https://localhost:8080/",
          "height": 302
        },
        "outputId": "71da4608-ae08-4571-8f58-28be83270453"
      },
      "source": [
        "n = 100\n",
        "c = np.random.normal(0, 2, n)\n",
        "\n",
        "d = 10*c**2 - c + 2\n",
        "\n",
        "results = stats.spearmanr(c, d)\n",
        "\n",
        "print (\"Despite an exact underlying relationship of d = 10c^2 - c + 2,\\\n",
        "the non-monotonic nature of the relationship led to a Spearman rank Correlation coefficient of\", \\\n",
        "results.correlation, \", meaning the test failed to detect the relationship.\")\n",
        "plt.scatter(c, d);"
      ],
      "execution_count": 7,
      "outputs": [
        {
          "output_type": "stream",
          "text": [
            "Despite an exact underlying relationship of d = 10c^2 - c + 2,the non-monotonic nature of the relationship led to a Spearman rank Correlation coefficient of -0.10091809180918092 , meaning the test failed to detect the relationship.\n"
          ],
          "name": "stdout"
        },
        {
          "output_type": "display_data",
          "data": {
            "image/png": "[encoded data removed]",
            "text/plain": [
              "<Figure size 432x288 with 1 Axes>"
            ]
          },
          "metadata": {
            "tags": []
          }
        }
      ]
    },
    {
      "cell_type": "code",
      "metadata": {
        "id": "uAZzg0mae79Y",
        "colab_type": "code",
        "colab": {}
      },
      "source": [
        ""
      ],
      "execution_count": 0,
      "outputs": []
    },
    {
      "cell_type": "markdown",
      "metadata": {
        "id": "I9T-8WcAfW1Y",
        "colab_type": "text"
      },
      "source": [
        "##b. Rolling Spearman Rank Correlation\n",
        "\n",
        "Repeat the above correlation for the first 60 days in the dataframe as opposed to just a single day. You should get a time series of Spearman rank correlations. From this we can start getting a better sense of how the factor correlates with forward returns.\n",
        "\n",
        "What we're driving towards is known as an information coefficient. This is a very common way of measuring how predictive a model is. All of this plus much more is automated in our open source alphalens library. In order to see alphalens in action you can check out these resources:"
      ]
    },
    {
      "cell_type": "code",
      "metadata": {
        "id": "jn7IMoVGfZZM",
        "colab_type": "code",
        "colab": {}
      },
      "source": [
        "rolling_corr = pd.Series(index=None, data=None)\n",
        "\n",
        "for dt in prices_df.index[:60]:\n",
        "    # The first trading day is actually 2015-1-2\n",
        "    single_day_factor_values = my_factor[dt]\n",
        "\n",
        "    # Because prices are indexed over the total time period, while the factor values dataframe\n",
        "    # has a dynamic universe that excludes hard to trade stocks, each day there may be assets in \n",
        "    # the returns dataframe that are not present in the factor values dataframe. We have to filter down\n",
        "    # as a result.\n",
        "    single_day_forward_returns = forward_returns_df.loc[dt][single_day_factor_values.index]\n",
        "\n",
        "    rolling_corr[dt] = stats.spearmanr(single_day_factor_values,\n",
        "                              single_day_forward_returns).correlation\n"
      ],
      "execution_count": 0,
      "outputs": []
    },
    {
      "cell_type": "markdown",
      "metadata": {
        "id": "FzwOVklZfjCk",
        "colab_type": "text"
      },
      "source": [
        "\n",
        "##b. Rolling Spearman Rank Correlation\n",
        "\n",
        "Plot out the rolling correlation as a time series, and compute the mean and standard deviation.\n"
      ]
    },
    {
      "cell_type": "code",
      "metadata": {
        "id": "vAw1_IUPfd7b",
        "colab_type": "code",
        "colab": {
          "base_uri": "https://localhost:8080/",
          "height": 300
        },
        "outputId": "158cc61b-cf19-4f20-aeb6-82f278b935de"
      },
      "source": [
        "print ('Spearman rank correlation mean: %s' %(np.mean(rolling_corr)))\n",
        "print ('Spearman rank correlation std: %s' %(np.std(rolling_corr)))\n",
        "plt.plot(rolling_corr);"
      ],
      "execution_count": 10,
      "outputs": [
        {
          "output_type": "stream",
          "text": [
            "Spearman rank correlation mean: nan\n",
            "Spearman rank correlation std: nan\n"
          ],
          "name": "stdout"
        },
        {
          "output_type": "display_data",
          "data": {
            "image/png": "[encoded data removed]",
            "text/plain": [
              "<Figure size 432x288 with 1 Axes>"
            ]
          },
          "metadata": {
            "tags": []
          }
        }
      ]
    },
    {
      "cell_type": "code",
      "metadata": {
        "id": "ZLHGmVpXfqxb",
        "colab_type": "code",
        "colab": {}
      },
      "source": [
        ""
      ],
      "execution_count": 0,
      "outputs": []
    }
  ]
}