{
  "nbformat": 4,
  "nbformat_minor": 0,
  "metadata": {
    "colab": {
      "name": "Confidence Intervals",
      "provenance": [],
      "include_colab_link": true
    },
    "kernelspec": {
      "name": "python3",
      "display_name": "Python 3"
    }
  },
  "cells": [
    {
      "cell_type": "markdown",
      "metadata": {
        "id": "view-in-github",
        "colab_type": "text"
      },
      "source": [
        "<a href=\"https://colab.research.google.com/github/TheHouseOfVermeulens/Financial-Engineering/blob/master/Confidence_Intervals.ipynb\" target=\"_parent\"><img src=\"https://colab.research.google.com/assets/colab-badge.svg\" alt=\"Open In Colab\"/></a>"
      ]
    },
    {
      "cell_type": "markdown",
      "metadata": {
        "id": "1Zb7cvlJZKgH",
        "colab_type": "text"
      },
      "source": [
        "Key Concepts"
      ]
    },
    {
      "cell_type": "code",
      "metadata": {
        "id": "yyAXeENzZH2g",
        "colab_type": "code",
        "colab": {}
      },
      "source": [
        "def generate_autocorrelated_data(theta, mu, sigma, N):\n",
        "    X = np.zeros((N, 1))\n",
        "    for t in range(1, N):\n",
        "        X[t] = theta * X[t-1] + np.random.normal(mu, sigma)\n",
        "    return X\n",
        "\n",
        "def newey_west_SE(data):\n",
        "    ind = range(0, len(data))\n",
        "    ind = sm.add_constant(ind)\n",
        "    model = regression.linear_model.OLS(data, ind).fit(cov_type='HAC',cov_kwds={'maxlags':1})\n",
        "    return model.bse[0]\n",
        "\n",
        "def newey_west_matrix(data):\n",
        "    ind = range(0, len(data))\n",
        "    ind = sm.add_constant(ind)\n",
        "    model = regression.linear_model.OLS(data, ind).fit()\n",
        "    return sw.cov_hac(model)"
      ],
      "execution_count": 0,
      "outputs": []
    },
    {
      "cell_type": "code",
      "metadata": {
        "id": "I3oOQpGEZOF_",
        "colab_type": "code",
        "colab": {}
      },
      "source": [
        "# Useful Libraries\n",
        "import numpy as np\n",
        "import seaborn as sns\n",
        "from scipy import stats\n",
        "import matplotlib.pyplot as plt\n",
        "from statsmodels.stats.stattools import jarque_bera\n",
        "import statsmodels.stats.sandwich_covariance as sw\n",
        "from statsmodels import regression\n",
        "import statsmodels.api as sm"
      ],
      "execution_count": 0,
      "outputs": []
    },
    {
      "cell_type": "markdown",
      "metadata": {
        "id": "kEq9R4TKZZR2",
        "colab_type": "text"
      },
      "source": [
        "##Data"
      ]
    },
    {
      "cell_type": "code",
      "metadata": {
        "id": "yjFcR5GOZWz-",
        "colab_type": "code",
        "colab": {}
      },
      "source": [
        "np.random.seed(11)\n",
        "POPULATION_MU = 105\n",
        "POPULATION_SIGMA = 20\n",
        "sample_size = 50"
      ],
      "execution_count": 0,
      "outputs": []
    },
    {
      "cell_type": "code",
      "metadata": {
        "id": "fXHmmEEsZasV",
        "colab_type": "code",
        "colab": {}
      },
      "source": [
        ""
      ],
      "execution_count": 0,
      "outputs": []
    },
    {
      "cell_type": "markdown",
      "metadata": {
        "id": "rCaJVrP5Zfgd",
        "colab_type": "text"
      },
      "source": [
        "#Determining Confidence Intervals\n",
        "##a. Mean\n",
        "\n",
        "Determine the mean of the following artificial data in sample."
      ]
    },
    {
      "cell_type": "code",
      "metadata": {
        "id": "fXUfYp48ZiWT",
        "colab_type": "code",
        "colab": {
          "base_uri": "https://localhost:8080/",
          "height": 34
        },
        "outputId": "e2749d3c-dd33-4d7c-e943-0e58d61f2b30"
      },
      "source": [
        "sample = np.random.normal(POPULATION_MU, POPULATION_SIGMA, sample_size)\n",
        "\n",
        "Mean = np.mean(sample)\n",
        "\n",
        "print (\"Mean:\", Mean)"
      ],
      "execution_count": 5,
      "outputs": [
        {
          "output_type": "stream",
          "text": [
            "Mean: 103.22364700456181\n"
          ],
          "name": "stdout"
        }
      ]
    },
    {
      "cell_type": "markdown",
      "metadata": {
        "id": "iF4cVNZPZrH3",
        "colab_type": "text"
      },
      "source": [
        "##Standard Deviation\n",
        "\n",
        "Determine standard deviation of the sample."
      ]
    },
    {
      "cell_type": "code",
      "metadata": {
        "id": "CkUTWNuYZmj7",
        "colab_type": "code",
        "colab": {
          "base_uri": "https://localhost:8080/",
          "height": 34
        },
        "outputId": "184c81e5-0cd9-40c2-e509-48c0eb6d184c"
      },
      "source": [
        "SD = np.std(sample)\n",
        "\n",
        "print (\"Standard Deviation:\", SD)"
      ],
      "execution_count": 6,
      "outputs": [
        {
          "output_type": "stream",
          "text": [
            "Standard Deviation: 18.064573023858248\n"
          ],
          "name": "stdout"
        }
      ]
    },
    {
      "cell_type": "markdown",
      "metadata": {
        "id": "JAk-wFYoZ1Fi",
        "colab_type": "text"
      },
      "source": [
        "##Standard Error\n",
        "\n",
        "Using the standard deviation and sample_size, determine the standard error for the sample."
      ]
    },
    {
      "cell_type": "code",
      "metadata": {
        "id": "qRtwxmhMZtK6",
        "colab_type": "code",
        "colab": {
          "base_uri": "https://localhost:8080/",
          "height": 34
        },
        "outputId": "12fdff92-e7ab-4c9d-b9ac-0a4b48f82e5b"
      },
      "source": [
        "SE = SD / np.sqrt(sample_size)\n",
        "\n",
        "print (\"Standard Error:\", SE)"
      ],
      "execution_count": 7,
      "outputs": [
        {
          "output_type": "stream",
          "text": [
            "Standard Error: 2.5547164168819485\n"
          ],
          "name": "stdout"
        }
      ]
    },
    {
      "cell_type": "markdown",
      "metadata": {
        "id": "i9QHMBZZZ-1U",
        "colab_type": "text"
      },
      "source": [
        "##Confidence Intervals\n",
        "\n",
        "Using the standard error and mean, determine 95% (Z = 1.96), 90% (Z = 1.64), and 80% (Z = 1.28) confidence intervals for the sample."
      ]
    },
    {
      "cell_type": "code",
      "metadata": {
        "id": "l6HbyIC3Z8JX",
        "colab_type": "code",
        "colab": {
          "base_uri": "https://localhost:8080/",
          "height": 69
        },
        "outputId": "c9b39ced-8bfc-4c9b-c5c1-29b992fe1ec4"
      },
      "source": [
        "print (\"95% Confidence Interval:\", (-1.96 * SE + Mean, 1.96 * SE + Mean))\n",
        "print (\"90% Confidence Interval:\", (-1.64 * SE + Mean, 1.64 * SE + Mean))\n",
        "print (\"80% Confidence Interval:\", (-1.28 * SE + Mean, 1.28 * SE + Mean))"
      ],
      "execution_count": 8,
      "outputs": [
        {
          "output_type": "stream",
          "text": [
            "95% Confidence Interval: (98.21640282747319, 108.23089118165043)\n",
            "90% Confidence Interval: (99.03391208087541, 107.41338192824821)\n",
            "80% Confidence Interval: (99.95360999095291, 106.49368401817071)\n"
          ],
          "name": "stdout"
        }
      ]
    },
    {
      "cell_type": "markdown",
      "metadata": {
        "id": "jzEsnwyRaLzv",
        "colab_type": "text"
      },
      "source": [
        "##Interpreting Confidence Intervals\n",
        "\n",
        "Assuming our interval was correctly calculated and that the underlying data was independent, if we take many samples and make many 95% confidence intervals, the intervals will contain the true mean 95% of the time. Run 1000 samples and measure how many of their confidence intervals actually contain the true mean."
      ]
    },
    {
      "cell_type": "code",
      "metadata": {
        "id": "XihZufNfaAou",
        "colab_type": "code",
        "colab": {
          "base_uri": "https://localhost:8080/",
          "height": 52
        },
        "outputId": "e3fafb70-c229-4c16-eeb4-78d27cd161a4"
      },
      "source": [
        "n = 1000\n",
        "correct = 0\n",
        "samples = [np.random.normal(loc=POPULATION_MU, scale=POPULATION_SIGMA, size=sample_size) for i in range(n)]\n",
        "\n",
        "for i in range(n):\n",
        "    sample_mean = np.mean(samples[i])\n",
        "    sample_SE = stats.sem(samples[i])\n",
        "    if ((POPULATION_MU >= -1.96 * sample_SE + sample_mean) and (POPULATION_MU <= 1.96 * sample_SE + sample_mean)):\n",
        "        correct += 1;\n",
        "\n",
        "print (\"Expected Result:\", .95 * 1000)\n",
        "print (\"Actual Result\", correct)"
      ],
      "execution_count": 9,
      "outputs": [
        {
          "output_type": "stream",
          "text": [
            "Expected Result: 950.0\n",
            "Actual Result 932\n"
          ],
          "name": "stdout"
        }
      ]
    },
    {
      "cell_type": "code",
      "metadata": {
        "id": "tARCNIxjaWM8",
        "colab_type": "code",
        "colab": {}
      },
      "source": [
        ""
      ],
      "execution_count": 0,
      "outputs": []
    },
    {
      "cell_type": "markdown",
      "metadata": {
        "id": "s9RZqEpqaZmH",
        "colab_type": "text"
      },
      "source": [
        "#Central Limit Theorem\n",
        "##a. Plotting Sample Means - Normal\n",
        "\n",
        "Assuming our samples are independent, the distribution of the sample means should be normally distributed, regardless of the underlying distribution.\n",
        "\n",
        "Draw 500 samples of size sample_size from the same normal distribution from question 1, plot the means of each of the samples, and check to see if the distribution of the sample means is normal using the jarque_bera function (see here more information on the Jarque-Bera test)"
      ]
    },
    {
      "cell_type": "code",
      "metadata": {
        "id": "2wqsdmKmadBb",
        "colab_type": "code",
        "colab": {
          "base_uri": "https://localhost:8080/",
          "height": 300
        },
        "outputId": "7786f35d-f3af-41ac-96f4-49ecac424814"
      },
      "source": [
        "n = 500\n",
        "normal_samples = [np.mean(np.random.normal(loc=POPULATION_MU, scale=POPULATION_SIGMA, size=sample_size)) for i in range(n)]\n",
        "\n",
        "#Your code goes here\n",
        "\n",
        "plt.hist(normal_samples, 10)\n",
        "\n",
        "_, pvalue, _, _ = jarque_bera(normal_samples)\n",
        "\n",
        "print (pvalue)\n",
        "if pvalue > 0.05:\n",
        "    print ('The distribution of sample means is likely normal.')\n",
        "else:\n",
        "    print ('The distribution of sample means is likely not normal.')"
      ],
      "execution_count": 10,
      "outputs": [
        {
          "output_type": "stream",
          "text": [
            "0.639560006166549\n",
            "The distribution of sample means is likely normal.\n"
          ],
          "name": "stdout"
        },
        {
          "output_type": "display_data",
          "data": {
            "image/png": "[encoded data removed]",
            "text/plain": [
              "<Figure size 432x288 with 1 Axes>"
            ]
          },
          "metadata": {
            "tags": []
          }
        }
      ]
    },
    {
      "cell_type": "code",
      "metadata": {
        "id": "ENl2d70PakuD",
        "colab_type": "code",
        "colab": {}
      },
      "source": [
        ""
      ],
      "execution_count": 0,
      "outputs": []
    },
    {
      "cell_type": "markdown",
      "metadata": {
        "id": "85xk2TklanuZ",
        "colab_type": "text"
      },
      "source": [
        "##Plotting Sample Means - Exponential\n",
        "\n",
        "Draw 500 samples of size sample_size from a new exponential distribution, plot the means of each of the samples, and check to see if the distribution of the sample means is normal."
      ]
    },
    {
      "cell_type": "code",
      "metadata": {
        "id": "iJR_DjV_ap7c",
        "colab_type": "code",
        "colab": {
          "base_uri": "https://localhost:8080/",
          "height": 303
        },
        "outputId": "732bf090-90e0-44c6-cdb9-70b5eb1d5914"
      },
      "source": [
        "n = 500\n",
        "expo_samples = [np.mean(np.random.exponential(POPULATION_MU, sample_size)) for i in range(n)]\n",
        "\n",
        "plt.hist(expo_samples, 10)\n",
        "\n",
        "_, pvalue, _, _ = jarque_bera(expo_samples)\n",
        "\n",
        "print (pvalue)\n",
        "if pvalue > 0.05:\n",
        "    print ('The distribution of sample means is likely normal, despite the underlying distribution being non-normal (exponential).')\n",
        "else:\n",
        "    print ('The distribution of sample means is likely not normal.')"
      ],
      "execution_count": 11,
      "outputs": [
        {
          "output_type": "stream",
          "text": [
            "0.3061297985512925\n",
            "The distribution of sample means is likely normal, despite the underlying distribution being non-normal (exponential).\n"
          ],
          "name": "stdout"
        },
        {
          "output_type": "display_data",
          "data": {
            "image/png": "[encoded data removed]",
            "text/plain": [
              "<Figure size 432x288 with 1 Axes>"
            ]
          },
          "metadata": {
            "tags": []
          }
        }
      ]
    },
    {
      "cell_type": "code",
      "metadata": {
        "id": "6znM03vBa4Ba",
        "colab_type": "code",
        "colab": {}
      },
      "source": [
        ""
      ],
      "execution_count": 0,
      "outputs": []
    },
    {
      "cell_type": "markdown",
      "metadata": {
        "id": "31VPudFBa7O9",
        "colab_type": "text"
      },
      "source": [
        "##Plotting Sample Means - Autocorrelated\n",
        "\n",
        "Draw 500 samples of size sample_size from a new autocorrelated (dependent) distribution, plot the means of each of the samples, and check to see if the distribution of the sample means is normal."
      ]
    },
    {
      "cell_type": "code",
      "metadata": {
        "id": "rzRtTyTna9Ew",
        "colab_type": "code",
        "colab": {
          "base_uri": "https://localhost:8080/",
          "height": 300
        },
        "outputId": "7467a46b-fbda-4c17-8156-42cb4d41eabf"
      },
      "source": [
        "n = 500\n",
        "autocorrelated_samples = [(generate_autocorrelated_data(0.5, 0, 1, sample_size) + POPULATION_MU) for i in range(n)]\n",
        "autocorrelated_means = [np.mean(autocorrelated_samples[i]) for i in range(n)]\n",
        "\n",
        "plt.hist(autocorrelated_means, 10)\n",
        "\n",
        "_, pvalue, _, _ = jarque_bera(autocorrelated_means)\n",
        "\n",
        "print (pvalue)\n",
        "if pvalue > 0.05:\n",
        "    print ('The distribution of sample means is likely normal, despite an autocorrelated underlying distribution.')\n",
        "else:\n",
        "    print ('The distribution of sample means is likely not normal.')"
      ],
      "execution_count": 12,
      "outputs": [
        {
          "output_type": "stream",
          "text": [
            "0.4400907418063521\n",
            "The distribution of sample means is likely normal, despite an autocorrelated underlying distribution.\n"
          ],
          "name": "stdout"
        },
        {
          "output_type": "display_data",
          "data": {
            "image/png": "[encoded data removed]",
            "text/plain": [
              "<Figure size 432x288 with 1 Axes>"
            ]
          },
          "metadata": {
            "tags": []
          }
        }
      ]
    },
    {
      "cell_type": "markdown",
      "metadata": {
        "id": "LPdciJtwbOJW",
        "colab_type": "text"
      },
      "source": [
        "##Plotting Sample Standard Deviations - Autocorrelated\n",
        "\n",
        "Draw 500 samples of size sample_size from the same autocorrelated distribution, plot the standard deviations of each of the samples, and check to see if the distribution of the sample standard deviations is normal."
      ]
    },
    {
      "cell_type": "code",
      "metadata": {
        "id": "BjbiOMM4bI8g",
        "colab_type": "code",
        "colab": {
          "base_uri": "https://localhost:8080/",
          "height": 300
        },
        "outputId": "4e43b7fd-d947-4b15-a407-96c604fe18f9"
      },
      "source": [
        "n = 500\n",
        "autocorrelated_samples = [(generate_autocorrelated_data(0.5, 0, 1, sample_size) + POPULATION_MU) for i in range(n)]\n",
        "autocorrelated_stds = [np.std(autocorrelated_samples[i]) for i in range(n)]\n",
        "\n",
        "plt.hist(autocorrelated_stds, 10)\n",
        "\n",
        "_, pvalue, _, _ = jarque_bera(autocorrelated_stds)\n",
        "\n",
        "print (pvalue)\n",
        "if pvalue > 0.05:\n",
        "    print ('The distribution of sample standard deviations is likely normal.')\n",
        "else:\n",
        "    print ('The distribution of sample standard deviations is likely not normal, due to the autocorrelated underlying distribution and the different assumptions for the CLT for means and for standard deviations.')"
      ],
      "execution_count": 14,
      "outputs": [
        {
          "output_type": "stream",
          "text": [
            "0.12086637895424439\n",
            "The distribution of sample standard deviations is likely normal.\n"
          ],
          "name": "stdout"
        },
        {
          "output_type": "display_data",
          "data": {
            "image/png": "[encoded data removed]",
            "text/plain": [
              "<Figure size 432x288 with 1 Axes>"
            ]
          },
          "metadata": {
            "tags": []
          }
        }
      ]
    },
    {
      "cell_type": "code",
      "metadata": {
        "id": "NnwV0NVsbP9V",
        "colab_type": "code",
        "colab": {}
      },
      "source": [
        ""
      ],
      "execution_count": 0,
      "outputs": []
    },
    {
      "cell_type": "markdown",
      "metadata": {
        "id": "hKumZvH5bg8-",
        "colab_type": "text"
      },
      "source": [
        "#Small Sample Sizes\n",
        "##a. Error Due to Small Sample Size\n",
        "\n",
        "Run 100 samples of size small_size and measure how many of their 95% confidence intervals actually contain the true mean."
      ]
    },
    {
      "cell_type": "code",
      "metadata": {
        "id": "_BnbLuM5bkVT",
        "colab_type": "code",
        "colab": {
          "base_uri": "https://localhost:8080/",
          "height": 89
        },
        "outputId": "2479a3dd-bc1a-4e9f-bb2c-305022da4c4b"
      },
      "source": [
        "n = 100\n",
        "small_size = 3\n",
        "correct = 0\n",
        "samples = [np.random.normal(loc=POPULATION_MU, scale=POPULATION_SIGMA, size=small_size) for i in range(n)]\n",
        "    \n",
        "for i in range(n):\n",
        "    sample_mean = np.mean(samples[i])\n",
        "    sample_SE = stats.sem(samples[i])\n",
        "    if ((POPULATION_MU >= -1.96 * sample_SE + sample_mean) and (POPULATION_MU <= 1.96 * sample_SE + sample_mean)):\n",
        "        correct += 1\n",
        "\n",
        "print (\"Expected Result:\", .95 * n)\n",
        "print (\"Actual Result:\", correct)\n",
        "print (\"Due to the small sample size, the actual number of confidence intervals containing the population mean is much lower than what we would expect given a correctly calibrated interval.\")"
      ],
      "execution_count": 15,
      "outputs": [
        {
          "output_type": "stream",
          "text": [
            "Expected Result: 95.0\n",
            "Actual Result: 82\n",
            "Due to the small sample size, the actual number of confidence intervals containing the population mean is much lower than what we would expect given a correctly calibrated interval.\n"
          ],
          "name": "stdout"
        }
      ]
    },
    {
      "cell_type": "markdown",
      "metadata": {
        "id": "bdUnOFw7bz5v",
        "colab_type": "text"
      },
      "source": [
        "##T-distribution Correction\n",
        "\n",
        "Run 100 samples of size small_size, this time accouting for the small sample size using a t-distribution, and measure how many of their 95% confidence intervals actually contain the true mean."
      ]
    },
    {
      "cell_type": "code",
      "metadata": {
        "id": "lVXEUcXYbwm7",
        "colab_type": "code",
        "colab": {
          "base_uri": "https://localhost:8080/",
          "height": 89
        },
        "outputId": "71fdb4d5-bf7c-4506-edef-d7c8ff9e21e0"
      },
      "source": [
        "n = 100\n",
        "small_size = 5\n",
        "correct = 0\n",
        "samples = [np.random.normal(loc=POPULATION_MU, scale=POPULATION_SIGMA, size=small_size) for i in range(n)]\n",
        "    \n",
        "for i in range(n):\n",
        "    sample_mean = np.mean(samples[i])\n",
        "    sample_SE = stats.sem(samples[i])\n",
        "    h = sample_SE * stats.t.ppf((1+0.95) / 2, len(samples[i])-1)\n",
        "    if ((POPULATION_MU >= sample_mean - h) and (POPULATION_MU <= sample_mean + h)):\n",
        "        correct += 1\n",
        "\n",
        "print (\"Expected Result:\", .95 * n)\n",
        "print (\"Actual Result:\", correct)\n",
        "print (\"After using the t-distribution to correct for the smaller sample size, the actual number of confidence intervals containing the population mean is about what we expected.\")"
      ],
      "execution_count": 17,
      "outputs": [
        {
          "output_type": "stream",
          "text": [
            "Expected Result: 95.0\n",
            "Actual Result: 94\n",
            "After using the t-distribution to correct for the smaller sample size, the actual number of confidence intervals containing the population mean is about what we expected.\n"
          ],
          "name": "stdout"
        }
      ]
    },
    {
      "cell_type": "markdown",
      "metadata": {
        "id": "y6nE7aNcccZR",
        "colab_type": "text"
      },
      "source": [
        "#Dependence\n",
        "##a. Error due to Dependence\n",
        "\n",
        "Run 100 samples of the following autocorrelated distribution and measure how many of their 95% confidence intervals actually contain the true mean. (Use the helper function generate_autocorrelated_data(theta, noise_mu, noise_sigma, sample_size) to generate the samples)"
      ]
    },
    {
      "cell_type": "code",
      "metadata": {
        "id": "DESWeROcb284",
        "colab_type": "code",
        "colab": {
          "base_uri": "https://localhost:8080/",
          "height": 89
        },
        "outputId": "071bb796-c3e9-4b06-9a81-eb1da9e3adfe"
      },
      "source": [
        "n = 100\n",
        "correct = 0\n",
        "theta = 0.5\n",
        "noise_mu = 0\n",
        "noise_sigma = 1\n",
        "\n",
        "for i in range(n):\n",
        "    X = generate_autocorrelated_data(theta, noise_mu, noise_sigma, sample_size) + POPULATION_MU\n",
        "    sample_mean = np.mean(X)\n",
        "    sample_SE = np.std(X) / np.sqrt(sample_size)\n",
        "    if ((POPULATION_MU >= -1.96 * sample_SE + sample_mean) and (POPULATION_MU <= 1.96 * sample_SE + sample_mean)):\n",
        "        correct += 1\n",
        "    \n",
        "\n",
        "print (\"Expected Result:\", .95 * n)\n",
        "print (\"Actual Result:\", correct)\n",
        "print (\"Because the underlying data was autocorrelated, the actual number of confidence intervals containing the population mean is much lower than what we expected.\")"
      ],
      "execution_count": 19,
      "outputs": [
        {
          "output_type": "stream",
          "text": [
            "Expected Result: 95.0\n",
            "Actual Result: 72\n",
            "Because the underlying data was autocorrelated, the actual number of confidence intervals containing the population mean is much lower than what we expected.\n"
          ],
          "name": "stdout"
        }
      ]
    },
    {
      "cell_type": "markdown",
      "metadata": {
        "id": "5THiP7Shcv9B",
        "colab_type": "text"
      },
      "source": [
        "##T-distribution Correction\n",
        "\n",
        "Run 100 samples from the autocorrelated distribution, this time attempting to account for the autocorrelation using a t-distribution, and measure how many of their 95% confidence intervals actually contain the true mean to see if the correction works."
      ]
    },
    {
      "cell_type": "code",
      "metadata": {
        "id": "BUolZckgcfAT",
        "colab_type": "code",
        "colab": {
          "base_uri": "https://localhost:8080/",
          "height": 89
        },
        "outputId": "186e287b-d37c-4ad5-86a6-56306351b29f"
      },
      "source": [
        "n = 100\n",
        "correct = 0\n",
        "\n",
        "for i in range(n):\n",
        "    X = generate_autocorrelated_data(theta, noise_mu, noise_sigma, sample_size) + POPULATION_MU\n",
        "    sample_mean = np.mean(X)\n",
        "    sample_SE = np.std(X) / np.sqrt(sample_size)\n",
        "    h = sample_SE * stats.t.ppf((1+0.95) / 2, len(X)-1)\n",
        "    if ((POPULATION_MU >= sample_mean - h) and (POPULATION_MU <= sample_mean + h)):\n",
        "        correct += 1\n",
        "    \n",
        "\n",
        "print (\"Expected Result:\", .95 * n)\n",
        "print (\"Actual Result:\", correct)\n",
        "print (\"We did not see a significant improvement in the actual number of confidence intervals containing the population mean. This is because a t-distribution only corrects for small sample sizes, not autocorrelation.\")"
      ],
      "execution_count": 21,
      "outputs": [
        {
          "output_type": "stream",
          "text": [
            "Expected Result: 95.0\n",
            "Actual Result: 74\n",
            "We did not see a significant improvement in the actual number of confidence intervals containing the population mean. This is because a t-distribution only corrects for small sample sizes, not autocorrelation.\n"
          ],
          "name": "stdout"
        }
      ]
    },
    {
      "cell_type": "markdown",
      "metadata": {
        "id": "wR4Xs6JYdBAV",
        "colab_type": "text"
      },
      "source": [
        "##Newey-West Matrix\n",
        "\n",
        "Use the newey_west_matrix helper function to compute an adjusted (robust) covariance matrix for a single sample of the autocorrelated data."
      ]
    },
    {
      "cell_type": "code",
      "metadata": {
        "id": "K7ZLHgqDc7-y",
        "colab_type": "code",
        "colab": {
          "base_uri": "https://localhost:8080/",
          "height": 52
        },
        "outputId": "7f74d54c-2566-4dcd-d339-061f9755850f"
      },
      "source": [
        "X = generate_autocorrelated_data(theta, noise_mu, noise_sigma, sample_size) + POPULATION_MU\n",
        "\n",
        "print (newey_west_matrix(X))\n"
      ],
      "execution_count": 22,
      "outputs": [
        {
          "output_type": "stream",
          "text": [
            "[[ 4.16696178e-02 -1.13405788e-03]\n",
            " [-1.13405788e-03  6.19627587e-05]]\n"
          ],
          "name": "stdout"
        }
      ]
    },
    {
      "cell_type": "markdown",
      "metadata": {
        "id": "a2VRxVdhdLyu",
        "colab_type": "text"
      },
      "source": [
        "##Newey-West Correction\n",
        "\n",
        "Run 100 samples of the following autocorrelated distribution, this time accounting for the autocorrelation by using a Newey-West correction on the standard error, and measure how many of their 95% confidence intervals actually contain the true mean to see if the correction works. (Use the helper function newey_west_SE to find the corrected standard error)"
      ]
    },
    {
      "cell_type": "code",
      "metadata": {
        "id": "KuGJzCp7dImA",
        "colab_type": "code",
        "colab": {
          "base_uri": "https://localhost:8080/",
          "height": 106
        },
        "outputId": "fc8e5ef5-a71b-4abe-8bc5-1af53462e3bf"
      },
      "source": [
        "n = 100\n",
        "correct = 0\n",
        "\n",
        "for i in range(n):\n",
        "    X = generate_autocorrelated_data(theta, noise_mu, noise_sigma, sample_size) + POPULATION_MU\n",
        "    sample_mean = np.mean(X)\n",
        "    sample_SE = newey_west_SE(X)\n",
        "    if ((POPULATION_MU >= -1.96 * sample_SE + sample_mean) and (POPULATION_MU <= 1.96 * sample_SE + sample_mean)):\n",
        "        correct += 1\n",
        "\n",
        "print (\"New Standard Error:\", sample_SE)\n",
        "print (\"Expected Result:\", .95 * n)\n",
        "print (\"Actual Result:\", correct)\n",
        "print (\"After accounting for autocorrelation by finding a Newey-West standard error, the actual number of confidence intervals containing the population mean is about what we expected.\")"
      ],
      "execution_count": 23,
      "outputs": [
        {
          "output_type": "stream",
          "text": [
            "New Standard Error: 0.4378657856178501\n",
            "Expected Result: 95.0\n",
            "Actual Result: 99\n",
            "After accounting for autocorrelation by finding a Newey-West standard error, the actual number of confidence intervals containing the population mean is about what we expected.\n"
          ],
          "name": "stdout"
        }
      ]
    },
    {
      "cell_type": "code",
      "metadata": {
        "id": "P6NVaSF5dNly",
        "colab_type": "code",
        "colab": {}
      },
      "source": [
        ""
      ],
      "execution_count": 0,
      "outputs": []
    }
  ]
}